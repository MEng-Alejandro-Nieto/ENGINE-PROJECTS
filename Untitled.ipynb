{
 "cells": [
  {
   "cell_type": "markdown",
   "metadata": {},
   "source": [
    "# Importing Numpy, Pandas, Matplotlib"
   ]
  },
  {
   "cell_type": "code",
   "execution_count": 2,
   "metadata": {},
   "outputs": [],
   "source": [
    "import numpy as np\n",
    "import pandas as pd\n",
    "import matplotlib.pyplot as plt"
   ]
  },
  {
   "cell_type": "markdown",
   "metadata": {},
   "source": [
    "# Input Parameters"
   ]
  },
  {
   "cell_type": "code",
   "execution_count": 3,
   "metadata": {},
   "outputs": [],
   "source": [
    "class Real_engine:\n",
    "    '''\n",
    "    k  = specific heat ratio\n",
    "    PR = Compressor Pressure ratio (only integer numbers)\n",
    "    Ec = Compressor isentropic efficiency \n",
    "    Et = Turbine isentropic efficiency\n",
    "    T1 = Ambient temperature (kelvin)\n",
    "    T3 = Turbine inlet temperature (kelvin)\n",
    "    P1 = Ambient pressure (Pascal)\n",
    "    cp = Specific heat at constant pressure (J/kg*k)\n",
    "    R  = Specific gas constant (J/Kg*k) \n",
    "    '''\n",
    "    pr = np.linspace(1,50,50)\n",
    "    \n",
    "    def __init__(self,k,PR,Ec,Et,T1,T3,P1,cp,R=287):\n",
    "        self.k  = k\n",
    "        self.T3 = T3\n",
    "        self.T1 = T1\n",
    "        self.P1 = P1\n",
    "        self.cp = cp\n",
    "        self.PR = PR\n",
    "        self.R  = R\n",
    "        self.Ec = Ec\n",
    "        self.Et = Et\n",
    "    \n",
    "    def calculation(self):\n",
    "        \n",
    "        \n",
    "        \n",
    "        \n",
    "        \n",
    "        \n",
    "        \n",
    "        \n",
    "        \n",
    "        \n",
    "        \n",
    "        \n",
    "        \n",
    "        \n",
    "        \n",
    "        \n",
    "        \n",
    "        "
   ]
  },
  {
   "cell_type": "code",
   "execution_count": null,
   "metadata": {},
   "outputs": [],
   "source": []
  }
 ],
 "metadata": {
  "kernelspec": {
   "display_name": "Python 3",
   "language": "python",
   "name": "python3"
  },
  "language_info": {
   "codemirror_mode": {
    "name": "ipython",
    "version": 3
   },
   "file_extension": ".py",
   "mimetype": "text/x-python",
   "name": "python",
   "nbconvert_exporter": "python",
   "pygments_lexer": "ipython3",
   "version": "3.7.3"
  }
 },
 "nbformat": 4,
 "nbformat_minor": 2
}
