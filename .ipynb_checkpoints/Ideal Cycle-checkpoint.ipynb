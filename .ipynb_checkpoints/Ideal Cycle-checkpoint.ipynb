{
 "cells": [
  {
   "cell_type": "markdown",
   "metadata": {},
   "source": [
    "# Importing Numpy, Pandas, Matplotlib"
   ]
  },
  {
   "cell_type": "code",
   "execution_count": 5,
   "metadata": {},
   "outputs": [],
   "source": [
    "import numpy as np\n",
    "import pandas as pd\n",
    "import matplotlib.pyplot as plt"
   ]
  },
  {
   "cell_type": "markdown",
   "metadata": {},
   "source": [
    "# Inpunt Parameters"
   ]
  },
  {
   "cell_type": "code",
   "execution_count": 163,
   "metadata": {},
   "outputs": [],
   "source": [
    "class Ideal_engine:\n",
    "    \n",
    "    pr = np.linspace(1,50,50)\n",
    "\n",
    "    def __init__(self,k,PR,T1,T3,P1,cp):\n",
    "        self.k  = k\n",
    "        self.T3 = T3\n",
    "        self.T1 = T1\n",
    "        self.P1 = P1\n",
    "        self.cp = cp\n",
    "        self.PR = PR\n",
    "    \n",
    "    def calculation(self):\n",
    "        self.T2=self.T1*self.pr**((self.k-1)/self.k)\n",
    "        self.P2=self.P1*self.pr\n",
    "        self.W2=self.cp*(self.T2-self.T1)\n",
    "        self.T4=self.T3*(self.P1/self.P2)**((self.k-1)/self.k)\n",
    "        self.W3=self.cp*(self.T3-self.T4)\n",
    "        self.WT=self.W3-self.W2\n",
    "        self.Q=self.cp*(self.T3-self.T2)\n",
    "        self.ef=self.WT/self.Q*100\n",
    "        #--------------------------------------------------------------------------------------\n",
    "        self.t2=(self.T1*(self.PR)**((self.k-1)/self.k))\n",
    "        self.p2=self.P1*self.PR\n",
    "        self.t4=self.T3*(self.P1/self.p2)**((self.k-1)/self.k)\n",
    "        \n",
    "        \n",
    "        \n",
    "        \n",
    "        \n",
    "        \n",
    "    def data(self):\n",
    "        data=pd.DataFrame({'Pressure Ratio':self.pr,\"P2 (Pa)\":self.P2,\"T2 (K)\":self.T2,\"T3 (K)\":self.T3,\"Net Power (MW)\":self.WT/1000000,\"Thermal Efficiency\":self.ef})\n",
    "        self.power=data[data['Pressure Ratio']==self.PR]['Net Power (MW)']\n",
    "        self.efficiency=data[data['Pressure Ratio']==self.PR]['Thermal Efficiency']\n",
    "        return data\n",
    "\n",
    "    \n",
    "    def graphs(self):\n",
    "        # NET POWER AND EFFICIENCY\n",
    "        fig, axes = plt.subplots(3,figsize=(10,10))\n",
    "        #--------------------------------------------------------------------------------------\n",
    "        x= self.pr\n",
    "        y_pow= self.WT/1000000\n",
    "        y_ef=self.ef\n",
    "        #--------------------------------------------------------------------------------------\n",
    "        axes[0].plot(x,y_pow)\n",
    "        axes[0].plot(self.PR,self.power,marker='o')\n",
    "        axes[0].set_xlabel('Pressure Ratio')\n",
    "        axes[0].set_ylabel(\"Net Power (MW)\")\n",
    "        axes[0].grid(True)\n",
    "        #--------------------------------------------------------------------------------------\n",
    "        axes[1].plot(x,y_ef)\n",
    "        axes[1].plot(self.PR,self.efficiency,marker='o')\n",
    "        axes[1].set_xlabel('Pressure Ratio')\n",
    "        axes[1].set_ylabel('Thermal Efficiency')\n",
    "        axes[1].grid(True)\n",
    "        #--------------------------------------------------------------------------------------\n",
    "        # BRAYTON CYCLE\n",
    "        self.ds=self.cp*np.log(self.T3/self.t2)\n",
    "\n",
    "        x12=np.array([0,0])\n",
    "        p12=np.array([self.T1,self.t2])\n",
    "        x23=np.linspace(0,self.ds,20)\n",
    "        p23=self.t2*np.exp(x23/self.cp)\n",
    "        x34=np.array([self.ds,self.ds])\n",
    "        p34=np.array([self.T3,self.t4])\n",
    "        x41=np.linspace(0,self.ds,20)\n",
    "        p41=self.T1*np.exp(x41/self.cp)\n",
    "        #--------------------------------------------------------------------------------------\n",
    "        axes[2].plot(x12,p12)\n",
    "        axes[2].plot(x23,p23)\n",
    "        axes[2].plot(x34,p34)\n",
    "        axes[2].plot(x41,p41)\n",
    "        axes[2].set_xlabel('Entropy Change')\n",
    "        axes[2].set_ylabel(\"Temperature (k)\")\n",
    "        axes[2].grid(True)\n",
    "        \n",
    "        return axes\n",
    "\n",
    "\n"
   ]
  },
  {
   "cell_type": "code",
   "execution_count": 164,
   "metadata": {},
   "outputs": [
    {
     "data": {
      "text/html": [
       "<div>\n",
       "<style scoped>\n",
       "    .dataframe tbody tr th:only-of-type {\n",
       "        vertical-align: middle;\n",
       "    }\n",
       "\n",
       "    .dataframe tbody tr th {\n",
       "        vertical-align: top;\n",
       "    }\n",
       "\n",
       "    .dataframe thead th {\n",
       "        text-align: right;\n",
       "    }\n",
       "</style>\n",
       "<table border=\"1\" class=\"dataframe\">\n",
       "  <thead>\n",
       "    <tr style=\"text-align: right;\">\n",
       "      <th></th>\n",
       "      <th>Pressure Ratio</th>\n",
       "      <th>P2 (Pa)</th>\n",
       "      <th>T2 (K)</th>\n",
       "      <th>T3 (K)</th>\n",
       "      <th>Net Power (MW)</th>\n",
       "      <th>Thermal Efficiency</th>\n",
       "    </tr>\n",
       "  </thead>\n",
       "  <tbody>\n",
       "    <tr>\n",
       "      <th>0</th>\n",
       "      <td>1.0</td>\n",
       "      <td>101325.0</td>\n",
       "      <td>298.000000</td>\n",
       "      <td>1700</td>\n",
       "      <td>0.000000</td>\n",
       "      <td>0.000000</td>\n",
       "    </tr>\n",
       "    <tr>\n",
       "      <th>1</th>\n",
       "      <td>2.0</td>\n",
       "      <td>202650.0</td>\n",
       "      <td>363.266069</td>\n",
       "      <td>1700</td>\n",
       "      <td>0.241245</td>\n",
       "      <td>17.966464</td>\n",
       "    </tr>\n",
       "    <tr>\n",
       "      <th>2</th>\n",
       "      <td>3.0</td>\n",
       "      <td>303975.0</td>\n",
       "      <td>407.883956</td>\n",
       "      <td>1700</td>\n",
       "      <td>0.349663</td>\n",
       "      <td>26.940004</td>\n",
       "    </tr>\n",
       "    <tr>\n",
       "      <th>3</th>\n",
       "      <td>4.0</td>\n",
       "      <td>405300.0</td>\n",
       "      <td>442.826298</td>\n",
       "      <td>1700</td>\n",
       "      <td>0.413009</td>\n",
       "      <td>32.704990</td>\n",
       "    </tr>\n",
       "    <tr>\n",
       "      <th>4</th>\n",
       "      <td>5.0</td>\n",
       "      <td>506625.0</td>\n",
       "      <td>471.978243</td>\n",
       "      <td>1700</td>\n",
       "      <td>0.454704</td>\n",
       "      <td>36.861496</td>\n",
       "    </tr>\n",
       "  </tbody>\n",
       "</table>\n",
       "</div>"
      ],
      "text/plain": [
       "   Pressure Ratio   P2 (Pa)      T2 (K)  T3 (K)  Net Power (MW)  \\\n",
       "0             1.0  101325.0  298.000000    1700        0.000000   \n",
       "1             2.0  202650.0  363.266069    1700        0.241245   \n",
       "2             3.0  303975.0  407.883956    1700        0.349663   \n",
       "3             4.0  405300.0  442.826298    1700        0.413009   \n",
       "4             5.0  506625.0  471.978243    1700        0.454704   \n",
       "\n",
       "   Thermal Efficiency  \n",
       "0            0.000000  \n",
       "1           17.966464  \n",
       "2           26.940004  \n",
       "3           32.704990  \n",
       "4           36.861496  "
      ]
     },
     "execution_count": 164,
     "metadata": {},
     "output_type": "execute_result"
    }
   ],
   "source": [
    "engine=Ideal_engine(1.4,20,298,1700,101325,1004.5)\n",
    "engine.calculation()\n",
    "engine.data().head()\n"
   ]
  },
  {
   "cell_type": "code",
   "execution_count": 165,
   "metadata": {},
   "outputs": [
    {
     "data": {
      "text/plain": [
       "array([<matplotlib.axes._subplots.AxesSubplot object at 0x0000023C199DF470>,\n",
       "       <matplotlib.axes._subplots.AxesSubplot object at 0x0000023C197C1E48>,\n",
       "       <matplotlib.axes._subplots.AxesSubplot object at 0x0000023C197EB3C8>],\n",
       "      dtype=object)"
      ]
     },
     "execution_count": 165,
     "metadata": {},
     "output_type": "execute_result"
    },
    {
     "data": {
      "image/png": "[encoded data removed]",
      "text/plain": [
       "<Figure size 720x720 with 3 Axes>"
      ]
     },
     "metadata": {
      "needs_background": "light"
     },
     "output_type": "display_data"
    }
   ],
   "source": [
    "engine.graphs()"
   ]
  },
  {
   "cell_type": "code",
   "execution_count": null,
   "metadata": {},
   "outputs": [],
   "source": []
  },
  {
   "cell_type": "code",
   "execution_count": null,
   "metadata": {},
   "outputs": [],
   "source": []
  },
  {
   "cell_type": "code",
   "execution_count": null,
   "metadata": {},
   "outputs": [],
   "source": []
  },
  {
   "cell_type": "code",
   "execution_count": null,
   "metadata": {},
   "outputs": [],
   "source": []
  },
  {
   "cell_type": "code",
   "execution_count": null,
   "metadata": {},
   "outputs": [],
   "source": []
  },
  {
   "cell_type": "code",
   "execution_count": null,
   "metadata": {},
   "outputs": [],
   "source": []
  },
  {
   "cell_type": "code",
   "execution_count": null,
   "metadata": {},
   "outputs": [],
   "source": []
  },
  {
   "cell_type": "code",
   "execution_count": null,
   "metadata": {},
   "outputs": [],
   "source": []
  },
  {
   "cell_type": "code",
   "execution_count": null,
   "metadata": {},
   "outputs": [],
   "source": []
  },
  {
   "cell_type": "code",
   "execution_count": null,
   "metadata": {},
   "outputs": [],
   "source": []
  },
  {
   "cell_type": "code",
   "execution_count": null,
   "metadata": {},
   "outputs": [],
   "source": []
  }
 ],
 "metadata": {
  "kernelspec": {
   "display_name": "Python 3",
   "language": "python",
   "name": "python3"
  },
  "language_info": {
   "codemirror_mode": {
    "name": "ipython",
    "version": 3
   },
   "file_extension": ".py",
   "mimetype": "text/x-python",
   "name": "python",
   "nbconvert_exporter": "python",
   "pygments_lexer": "ipython3",
   "version": "3.7.3"
  }
 },
 "nbformat": 4,
 "nbformat_minor": 2
}
