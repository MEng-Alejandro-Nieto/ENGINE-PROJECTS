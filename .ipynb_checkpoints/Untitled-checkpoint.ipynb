{
 "cells": [
  {
   "cell_type": "markdown",
   "metadata": {},
   "source": [
    "# Importing Numpy, Pandas, Matplotlib"
   ]
  },
  {
   "cell_type": "code",
   "execution_count": 2,
   "metadata": {},
   "outputs": [],
   "source": [
    "import numpy as np\n",
    "import pandas as pd\n",
    "import matplotlib.pyplot as plt"
   ]
  },
  {
   "cell_type": "markdown",
   "metadata": {},
   "source": [
    "# Input Parameters"
   ]
  },
  {
   "cell_type": "code",
   "execution_count": null,
   "metadata": {},
   "outputs": [],
   "source": [
    "class Real_engine:\n",
    "    '''\n",
    "    k  = specific heat ratio\n",
    "    PR = Compressor Pressure ratio (only integer numbers)\n",
    "    Ec = Compressor isentropic efficiency \n",
    "    Et = Turbine isentropic efficiency\n",
    "    T1 = Ambient temperature (kelvin)\n",
    "    T3 = Turbine inlet temperature (kelvin)\n",
    "    P1 = Ambient pressure (Pascal)\n",
    "    cp = Specific heat at constant pressure (J/kg*k)\n",
    "    R  = Specific gas constant (J/Kg*k) \n",
    "    '''\n"
   ]
  }
 ],
 "metadata": {
  "kernelspec": {
   "display_name": "Python 3",
   "language": "python",
   "name": "python3"
  },
  "language_info": {
   "codemirror_mode": {
    "name": "ipython",
    "version": 3
   },
   "file_extension": ".py",
   "mimetype": "text/x-python",
   "name": "python",
   "nbconvert_exporter": "python",
   "pygments_lexer": "ipython3",
   "version": "3.7.3"
  }
 },
 "nbformat": 4,
 "nbformat_minor": 2
}
